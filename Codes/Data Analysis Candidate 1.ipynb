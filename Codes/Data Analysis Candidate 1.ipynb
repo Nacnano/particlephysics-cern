{
 "cells": [
  {
   "cell_type": "code",
   "execution_count": 1,
   "metadata": {},
   "outputs": [],
   "source": [
    "import pandas as pd\n",
    "import numpy as np\n",
    "import matplotlib.pyplot as plt"
   ]
  },
  {
   "cell_type": "code",
   "execution_count": 2,
   "metadata": {
    "scrolled": true
   },
   "outputs": [
    {
     "data": {
      "text/html": [
       "<div>\n",
       "<style scoped>\n",
       "    .dataframe tbody tr th:only-of-type {\n",
       "        vertical-align: middle;\n",
       "    }\n",
       "\n",
       "    .dataframe tbody tr th {\n",
       "        vertical-align: top;\n",
       "    }\n",
       "\n",
       "    .dataframe thead th {\n",
       "        text-align: right;\n",
       "    }\n",
       "</style>\n",
       "<table border=\"1\" class=\"dataframe\">\n",
       "  <thead>\n",
       "    <tr style=\"text-align: right;\">\n",
       "      <th></th>\n",
       "      <th>Run</th>\n",
       "      <th>Event</th>\n",
       "      <th>type1</th>\n",
       "      <th>E1</th>\n",
       "      <th>px1</th>\n",
       "      <th>py1</th>\n",
       "      <th>pz1</th>\n",
       "      <th>pt1</th>\n",
       "      <th>eta1</th>\n",
       "      <th>phi1</th>\n",
       "      <th>Q1</th>\n",
       "      <th>type2</th>\n",
       "      <th>E2</th>\n",
       "      <th>px2</th>\n",
       "      <th>py2</th>\n",
       "      <th>pz2</th>\n",
       "      <th>pt2</th>\n",
       "      <th>eta2</th>\n",
       "      <th>phi2</th>\n",
       "      <th>Q2</th>\n",
       "    </tr>\n",
       "  </thead>\n",
       "  <tbody>\n",
       "    <tr>\n",
       "      <th>0</th>\n",
       "      <td>165617</td>\n",
       "      <td>75206813</td>\n",
       "      <td>G</td>\n",
       "      <td>10.1623</td>\n",
       "      <td>0.4763</td>\n",
       "      <td>-8.5164</td>\n",
       "      <td>5.5231</td>\n",
       "      <td>8.5297</td>\n",
       "      <td>0.6091</td>\n",
       "      <td>-1.5149</td>\n",
       "      <td>-1</td>\n",
       "      <td>G</td>\n",
       "      <td>19.7754</td>\n",
       "      <td>2.7508</td>\n",
       "      <td>-13.9871</td>\n",
       "      <td>13.7059</td>\n",
       "      <td>14.2550</td>\n",
       "      <td>0.8539</td>\n",
       "      <td>-1.3766</td>\n",
       "      <td>1</td>\n",
       "    </tr>\n",
       "    <tr>\n",
       "      <th>1</th>\n",
       "      <td>165617</td>\n",
       "      <td>75678475</td>\n",
       "      <td>G</td>\n",
       "      <td>15.8799</td>\n",
       "      <td>15.0618</td>\n",
       "      <td>-1.6658</td>\n",
       "      <td>-4.7464</td>\n",
       "      <td>15.1536</td>\n",
       "      <td>-0.3083</td>\n",
       "      <td>-0.1102</td>\n",
       "      <td>1</td>\n",
       "      <td>G</td>\n",
       "      <td>11.9338</td>\n",
       "      <td>11.9084</td>\n",
       "      <td>-0.7670</td>\n",
       "      <td>-0.0851</td>\n",
       "      <td>11.9330</td>\n",
       "      <td>-0.0071</td>\n",
       "      <td>-0.0643</td>\n",
       "      <td>-1</td>\n",
       "    </tr>\n",
       "    <tr>\n",
       "      <th>2</th>\n",
       "      <td>165617</td>\n",
       "      <td>74428554</td>\n",
       "      <td>G</td>\n",
       "      <td>21.8279</td>\n",
       "      <td>-6.2214</td>\n",
       "      <td>11.0845</td>\n",
       "      <td>17.7447</td>\n",
       "      <td>12.7111</td>\n",
       "      <td>1.1357</td>\n",
       "      <td>2.0823</td>\n",
       "      <td>-1</td>\n",
       "      <td>G</td>\n",
       "      <td>36.6513</td>\n",
       "      <td>-10.6874</td>\n",
       "      <td>15.0692</td>\n",
       "      <td>31.6544</td>\n",
       "      <td>18.4743</td>\n",
       "      <td>1.3076</td>\n",
       "      <td>2.1877</td>\n",
       "      <td>1</td>\n",
       "    </tr>\n",
       "    <tr>\n",
       "      <th>3</th>\n",
       "      <td>165617</td>\n",
       "      <td>75193169</td>\n",
       "      <td>G</td>\n",
       "      <td>19.4923</td>\n",
       "      <td>2.7612</td>\n",
       "      <td>-5.5769</td>\n",
       "      <td>-18.4719</td>\n",
       "      <td>6.2230</td>\n",
       "      <td>-1.8084</td>\n",
       "      <td>-1.1111</td>\n",
       "      <td>1</td>\n",
       "      <td>G</td>\n",
       "      <td>14.9334</td>\n",
       "      <td>1.5525</td>\n",
       "      <td>-6.1254</td>\n",
       "      <td>-13.5302</td>\n",
       "      <td>6.3190</td>\n",
       "      <td>-1.5050</td>\n",
       "      <td>-1.3226</td>\n",
       "      <td>-1</td>\n",
       "    </tr>\n",
       "    <tr>\n",
       "      <th>4</th>\n",
       "      <td>165617</td>\n",
       "      <td>74832715</td>\n",
       "      <td>G</td>\n",
       "      <td>8.0972</td>\n",
       "      <td>4.6127</td>\n",
       "      <td>-1.8389</td>\n",
       "      <td>6.3949</td>\n",
       "      <td>4.9657</td>\n",
       "      <td>1.0710</td>\n",
       "      <td>-0.3793</td>\n",
       "      <td>-1</td>\n",
       "      <td>T</td>\n",
       "      <td>3.5131</td>\n",
       "      <td>-0.5305</td>\n",
       "      <td>0.6880</td>\n",
       "      <td>3.4024</td>\n",
       "      <td>0.8688</td>\n",
       "      <td>2.0742</td>\n",
       "      <td>2.2276</td>\n",
       "      <td>1</td>\n",
       "    </tr>\n",
       "  </tbody>\n",
       "</table>\n",
       "</div>"
      ],
      "text/plain": [
       "      Run     Event type1       E1      px1      py1      pz1      pt1  \\\n",
       "0  165617  75206813     G  10.1623   0.4763  -8.5164   5.5231   8.5297   \n",
       "1  165617  75678475     G  15.8799  15.0618  -1.6658  -4.7464  15.1536   \n",
       "2  165617  74428554     G  21.8279  -6.2214  11.0845  17.7447  12.7111   \n",
       "3  165617  75193169     G  19.4923   2.7612  -5.5769 -18.4719   6.2230   \n",
       "4  165617  74832715     G   8.0972   4.6127  -1.8389   6.3949   4.9657   \n",
       "\n",
       "     eta1    phi1  Q1 type2       E2      px2      py2      pz2      pt2  \\\n",
       "0  0.6091 -1.5149  -1     G  19.7754   2.7508 -13.9871  13.7059  14.2550   \n",
       "1 -0.3083 -0.1102   1     G  11.9338  11.9084  -0.7670  -0.0851  11.9330   \n",
       "2  1.1357  2.0823  -1     G  36.6513 -10.6874  15.0692  31.6544  18.4743   \n",
       "3 -1.8084 -1.1111   1     G  14.9334   1.5525  -6.1254 -13.5302   6.3190   \n",
       "4  1.0710 -0.3793  -1     T   3.5131  -0.5305   0.6880   3.4024   0.8688   \n",
       "\n",
       "     eta2    phi2  Q2  \n",
       "0  0.8539 -1.3766   1  \n",
       "1 -0.0071 -0.0643  -1  \n",
       "2  1.3076  2.1877   1  \n",
       "3 -1.5050 -1.3226  -1  \n",
       "4  2.0742  2.2276   1  "
      ]
     },
     "execution_count": 2,
     "metadata": {},
     "output_type": "execute_result"
    }
   ],
   "source": [
    "data = pd.read_csv(\"Candidate1.csv\")\n",
    "data.head()"
   ]
  },
  {
   "cell_type": "code",
   "execution_count": 3,
   "metadata": {},
   "outputs": [],
   "source": [
    "invariant_mass = np.sqrt(2*data.pt1*data.pt2*(np.cosh(data.eta1 - data.eta2) - np.cos(data.phi1 - data.phi2)))"
   ]
  },
  {
   "cell_type": "code",
   "execution_count": 4,
   "metadata": {},
   "outputs": [
    {
     "name": "stdout",
     "output_type": "stream",
     "text": [
      "0        3.105639\n",
      "1        4.112210\n",
      "2        3.092335\n",
      "3        2.323806\n",
      "4        4.557513\n",
      "           ...   \n",
      "19995    3.101994\n",
      "19996    3.061253\n",
      "19997    3.076973\n",
      "19998    3.052982\n",
      "19999    3.114485\n",
      "Length: 20000, dtype: float64\n"
     ]
    }
   ],
   "source": [
    "print(invariant_mass)"
   ]
  },
  {
   "cell_type": "code",
   "execution_count": 5,
   "metadata": {},
   "outputs": [
    {
     "data": {
      "text/html": [
       "<div>\n",
       "<style scoped>\n",
       "    .dataframe tbody tr th:only-of-type {\n",
       "        vertical-align: middle;\n",
       "    }\n",
       "\n",
       "    .dataframe tbody tr th {\n",
       "        vertical-align: top;\n",
       "    }\n",
       "\n",
       "    .dataframe thead th {\n",
       "        text-align: right;\n",
       "    }\n",
       "</style>\n",
       "<table border=\"1\" class=\"dataframe\">\n",
       "  <thead>\n",
       "    <tr style=\"text-align: right;\">\n",
       "      <th></th>\n",
       "      <th>Run</th>\n",
       "      <th>Event</th>\n",
       "      <th>type1</th>\n",
       "      <th>E1</th>\n",
       "      <th>px1</th>\n",
       "      <th>py1</th>\n",
       "      <th>pz1</th>\n",
       "      <th>pt1</th>\n",
       "      <th>eta1</th>\n",
       "      <th>phi1</th>\n",
       "      <th>...</th>\n",
       "      <th>type2</th>\n",
       "      <th>E2</th>\n",
       "      <th>px2</th>\n",
       "      <th>py2</th>\n",
       "      <th>pz2</th>\n",
       "      <th>pt2</th>\n",
       "      <th>eta2</th>\n",
       "      <th>phi2</th>\n",
       "      <th>Q2</th>\n",
       "      <th>M</th>\n",
       "    </tr>\n",
       "  </thead>\n",
       "  <tbody>\n",
       "    <tr>\n",
       "      <th>0</th>\n",
       "      <td>165617</td>\n",
       "      <td>75206813</td>\n",
       "      <td>G</td>\n",
       "      <td>10.1623</td>\n",
       "      <td>0.4763</td>\n",
       "      <td>-8.5164</td>\n",
       "      <td>5.5231</td>\n",
       "      <td>8.5297</td>\n",
       "      <td>0.6091</td>\n",
       "      <td>-1.5149</td>\n",
       "      <td>...</td>\n",
       "      <td>G</td>\n",
       "      <td>19.7754</td>\n",
       "      <td>2.7508</td>\n",
       "      <td>-13.9871</td>\n",
       "      <td>13.7059</td>\n",
       "      <td>14.2550</td>\n",
       "      <td>0.8539</td>\n",
       "      <td>-1.3766</td>\n",
       "      <td>1</td>\n",
       "      <td>3.105639</td>\n",
       "    </tr>\n",
       "    <tr>\n",
       "      <th>1</th>\n",
       "      <td>165617</td>\n",
       "      <td>75678475</td>\n",
       "      <td>G</td>\n",
       "      <td>15.8799</td>\n",
       "      <td>15.0618</td>\n",
       "      <td>-1.6658</td>\n",
       "      <td>-4.7464</td>\n",
       "      <td>15.1536</td>\n",
       "      <td>-0.3083</td>\n",
       "      <td>-0.1102</td>\n",
       "      <td>...</td>\n",
       "      <td>G</td>\n",
       "      <td>11.9338</td>\n",
       "      <td>11.9084</td>\n",
       "      <td>-0.7670</td>\n",
       "      <td>-0.0851</td>\n",
       "      <td>11.9330</td>\n",
       "      <td>-0.0071</td>\n",
       "      <td>-0.0643</td>\n",
       "      <td>-1</td>\n",
       "      <td>4.112210</td>\n",
       "    </tr>\n",
       "    <tr>\n",
       "      <th>2</th>\n",
       "      <td>165617</td>\n",
       "      <td>74428554</td>\n",
       "      <td>G</td>\n",
       "      <td>21.8279</td>\n",
       "      <td>-6.2214</td>\n",
       "      <td>11.0845</td>\n",
       "      <td>17.7447</td>\n",
       "      <td>12.7111</td>\n",
       "      <td>1.1357</td>\n",
       "      <td>2.0823</td>\n",
       "      <td>...</td>\n",
       "      <td>G</td>\n",
       "      <td>36.6513</td>\n",
       "      <td>-10.6874</td>\n",
       "      <td>15.0692</td>\n",
       "      <td>31.6544</td>\n",
       "      <td>18.4743</td>\n",
       "      <td>1.3076</td>\n",
       "      <td>2.1877</td>\n",
       "      <td>1</td>\n",
       "      <td>3.092335</td>\n",
       "    </tr>\n",
       "    <tr>\n",
       "      <th>3</th>\n",
       "      <td>165617</td>\n",
       "      <td>75193169</td>\n",
       "      <td>G</td>\n",
       "      <td>19.4923</td>\n",
       "      <td>2.7612</td>\n",
       "      <td>-5.5769</td>\n",
       "      <td>-18.4719</td>\n",
       "      <td>6.2230</td>\n",
       "      <td>-1.8084</td>\n",
       "      <td>-1.1111</td>\n",
       "      <td>...</td>\n",
       "      <td>G</td>\n",
       "      <td>14.9334</td>\n",
       "      <td>1.5525</td>\n",
       "      <td>-6.1254</td>\n",
       "      <td>-13.5302</td>\n",
       "      <td>6.3190</td>\n",
       "      <td>-1.5050</td>\n",
       "      <td>-1.3226</td>\n",
       "      <td>-1</td>\n",
       "      <td>2.323806</td>\n",
       "    </tr>\n",
       "    <tr>\n",
       "      <th>4</th>\n",
       "      <td>165617</td>\n",
       "      <td>74832715</td>\n",
       "      <td>G</td>\n",
       "      <td>8.0972</td>\n",
       "      <td>4.6127</td>\n",
       "      <td>-1.8389</td>\n",
       "      <td>6.3949</td>\n",
       "      <td>4.9657</td>\n",
       "      <td>1.0710</td>\n",
       "      <td>-0.3793</td>\n",
       "      <td>...</td>\n",
       "      <td>T</td>\n",
       "      <td>3.5131</td>\n",
       "      <td>-0.5305</td>\n",
       "      <td>0.6880</td>\n",
       "      <td>3.4024</td>\n",
       "      <td>0.8688</td>\n",
       "      <td>2.0742</td>\n",
       "      <td>2.2276</td>\n",
       "      <td>1</td>\n",
       "      <td>4.557513</td>\n",
       "    </tr>\n",
       "  </tbody>\n",
       "</table>\n",
       "<p>5 rows × 21 columns</p>\n",
       "</div>"
      ],
      "text/plain": [
       "      Run     Event type1       E1      px1      py1      pz1      pt1  \\\n",
       "0  165617  75206813     G  10.1623   0.4763  -8.5164   5.5231   8.5297   \n",
       "1  165617  75678475     G  15.8799  15.0618  -1.6658  -4.7464  15.1536   \n",
       "2  165617  74428554     G  21.8279  -6.2214  11.0845  17.7447  12.7111   \n",
       "3  165617  75193169     G  19.4923   2.7612  -5.5769 -18.4719   6.2230   \n",
       "4  165617  74832715     G   8.0972   4.6127  -1.8389   6.3949   4.9657   \n",
       "\n",
       "     eta1    phi1  ...  type2       E2      px2      py2      pz2      pt2  \\\n",
       "0  0.6091 -1.5149  ...      G  19.7754   2.7508 -13.9871  13.7059  14.2550   \n",
       "1 -0.3083 -0.1102  ...      G  11.9338  11.9084  -0.7670  -0.0851  11.9330   \n",
       "2  1.1357  2.0823  ...      G  36.6513 -10.6874  15.0692  31.6544  18.4743   \n",
       "3 -1.8084 -1.1111  ...      G  14.9334   1.5525  -6.1254 -13.5302   6.3190   \n",
       "4  1.0710 -0.3793  ...      T   3.5131  -0.5305   0.6880   3.4024   0.8688   \n",
       "\n",
       "     eta2    phi2  Q2         M  \n",
       "0  0.8539 -1.3766   1  3.105639  \n",
       "1 -0.0071 -0.0643  -1  4.112210  \n",
       "2  1.3076  2.1877   1  3.092335  \n",
       "3 -1.5050 -1.3226  -1  2.323806  \n",
       "4  2.0742  2.2276   1  4.557513  \n",
       "\n",
       "[5 rows x 21 columns]"
      ]
     },
     "execution_count": 5,
     "metadata": {},
     "output_type": "execute_result"
    }
   ],
   "source": [
    "dataset = data.assign(M=invariant_mass)\n",
    "dataset.head()"
   ]
  },
  {
   "cell_type": "code",
   "execution_count": 6,
   "metadata": {},
   "outputs": [
    {
     "data": {
      "text/plain": [
       "count    20000.000000\n",
       "mean         3.044139\n",
       "std          0.590053\n",
       "min          0.755175\n",
       "25%          2.749402\n",
       "50%          3.074201\n",
       "75%          3.122578\n",
       "max         13.239391\n",
       "Name: M, dtype: float64"
      ]
     },
     "execution_count": 6,
     "metadata": {},
     "output_type": "execute_result"
    }
   ],
   "source": [
    "dataset.M.describe()"
   ]
  },
  {
   "cell_type": "code",
   "execution_count": 11,
   "metadata": {},
   "outputs": [
    {
     "data": {
      "image/png": "[encoded data removed]",
      "text/plain": [
       "<Figure size 432x288 with 1 Axes>"
      ]
     },
     "metadata": {
      "needs_background": "light"
     },
     "output_type": "display_data"
    }
   ],
   "source": [
    "plt.hist(dataset.M, bins=1000,range=[2,6])\n",
    "plt.xlabel(\"Invariant Mass [GeV]\")\n",
    "plt.ylabel(\"Number of Event\")\n",
    "plt.show()"
   ]
  },
  {
   "cell_type": "code",
   "execution_count": 16,
   "metadata": {},
   "outputs": [
    {
     "name": "stdout",
     "output_type": "stream",
     "text": [
      "0        3.105639\n",
      "1        4.112210\n",
      "2        3.092335\n",
      "3        2.323806\n",
      "4        4.557513\n",
      "           ...   \n",
      "19995    3.101994\n",
      "19996    3.061253\n",
      "19997    3.076973\n",
      "19998    3.052982\n",
      "19999    3.114485\n",
      "Name: M, Length: 20000, dtype: float64\n"
     ]
    }
   ],
   "source": [
    "newdata = dataset[(dataset.M >= 2.9) & (dataset.M <= 3.3)]\n",
    "print(dataset.M)"
   ]
  },
  {
   "cell_type": "code",
   "execution_count": 17,
   "metadata": {},
   "outputs": [
    {
     "data": {
      "image/png": "[encoded data removed]",
      "text/plain": [
       "<Figure size 432x288 with 1 Axes>"
      ]
     },
     "metadata": {
      "needs_background": "light"
     },
     "output_type": "display_data"
    }
   ],
   "source": [
    "plt.hist(newdata.M, bins=1000)\n",
    "plt.xlabel(\"Invariant Mass [GeV]\")\n",
    "plt.ylabel(\"Number of Event\")\n",
    "plt.show()"
   ]
  },
  {
   "cell_type": "code",
   "execution_count": 18,
   "metadata": {},
   "outputs": [
    {
     "data": {
      "text/plain": [
       "count    10827.000000\n",
       "mean         3.084029\n",
       "std          0.055502\n",
       "min          2.900002\n",
       "25%          3.060446\n",
       "50%          3.084511\n",
       "75%          3.108162\n",
       "max          3.299743\n",
       "Name: M, dtype: float64"
      ]
     },
     "execution_count": 18,
     "metadata": {},
     "output_type": "execute_result"
    }
   ],
   "source": [
    "newdata.M.describe()"
   ]
  },
  {
   "cell_type": "code",
   "execution_count": 19,
   "metadata": {},
   "outputs": [
    {
     "data": {
      "text/plain": [
       "0.0005333795274911483"
      ]
     },
     "execution_count": 19,
     "metadata": {},
     "output_type": "execute_result"
    }
   ],
   "source": [
    "se = np.std(newdata.M)/np.sqrt(newdata.shape[0])\n",
    "se"
   ]
  },
  {
   "cell_type": "markdown",
   "metadata": {},
   "source": [
    "ได้\n",
    "mean = 3.084029, \n",
    "Standard Deviation = 0.055502, \n",
    "Standard Error = $ \\frac{Standard Deviation}{\\sqrt(n)} $ = 0.000533"
   ]
  },
  {
   "cell_type": "markdown",
   "metadata": {},
   "source": [
    "เพราะฉะนั้น อนุภาคที่พบ คือ J/psi Meson เพราะมีมวลใกล้เคียงกับค่าจริงซึ่งคือ 3.096 GeV"
   ]
  }
 ],
 "metadata": {
  "kernelspec": {
   "display_name": "Python 3",
   "language": "python",
   "name": "python3"
  },
  "language_info": {
   "codemirror_mode": {
    "name": "ipython",
    "version": 3
   },
   "file_extension": ".py",
   "mimetype": "text/x-python",
   "name": "python",
   "nbconvert_exporter": "python",
   "pygments_lexer": "ipython3",
   "version": "3.7.6"
  }
 },
 "nbformat": 4,
 "nbformat_minor": 4
}
