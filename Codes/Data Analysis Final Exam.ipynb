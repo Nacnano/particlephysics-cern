{
 "cells": [
  {
   "cell_type": "code",
   "execution_count": 1,
   "metadata": {},
   "outputs": [],
   "source": [
    "import pandas as pd\n",
    "import numpy as np\n",
    "import matplotlib.pyplot as plt"
   ]
  },
  {
   "cell_type": "code",
   "execution_count": 2,
   "metadata": {
    "scrolled": true
   },
   "outputs": [
    {
     "data": {
      "text/html": [
       "<div>\n",
       "<style scoped>\n",
       "    .dataframe tbody tr th:only-of-type {\n",
       "        vertical-align: middle;\n",
       "    }\n",
       "\n",
       "    .dataframe tbody tr th {\n",
       "        vertical-align: top;\n",
       "    }\n",
       "\n",
       "    .dataframe thead th {\n",
       "        text-align: right;\n",
       "    }\n",
       "</style>\n",
       "<table border=\"1\" class=\"dataframe\">\n",
       "  <thead>\n",
       "    <tr style=\"text-align: right;\">\n",
       "      <th></th>\n",
       "      <th>Run</th>\n",
       "      <th>Event</th>\n",
       "      <th>pt1</th>\n",
       "      <th>eta1</th>\n",
       "      <th>phi1</th>\n",
       "      <th>Q1</th>\n",
       "      <th>dxy1</th>\n",
       "      <th>iso1</th>\n",
       "      <th>pt2</th>\n",
       "      <th>eta2</th>\n",
       "      <th>phi2</th>\n",
       "      <th>Q2</th>\n",
       "      <th>dxy2</th>\n",
       "      <th>iso2</th>\n",
       "    </tr>\n",
       "  </thead>\n",
       "  <tbody>\n",
       "    <tr>\n",
       "      <th>0</th>\n",
       "      <td>165617</td>\n",
       "      <td>74969122</td>\n",
       "      <td>54.7055</td>\n",
       "      <td>-0.4324</td>\n",
       "      <td>2.5742</td>\n",
       "      <td>1</td>\n",
       "      <td>-0.0745</td>\n",
       "      <td>0.4999</td>\n",
       "      <td>34.2464</td>\n",
       "      <td>-0.9885</td>\n",
       "      <td>-0.4987</td>\n",
       "      <td>-1</td>\n",
       "      <td>0.0712</td>\n",
       "      <td>3.4221</td>\n",
       "    </tr>\n",
       "    <tr>\n",
       "      <th>1</th>\n",
       "      <td>165617</td>\n",
       "      <td>75138253</td>\n",
       "      <td>24.5872</td>\n",
       "      <td>-2.0522</td>\n",
       "      <td>2.8666</td>\n",
       "      <td>-1</td>\n",
       "      <td>-0.0554</td>\n",
       "      <td>0.0000</td>\n",
       "      <td>28.5389</td>\n",
       "      <td>0.3852</td>\n",
       "      <td>-1.9912</td>\n",
       "      <td>1</td>\n",
       "      <td>0.0515</td>\n",
       "      <td>0.0000</td>\n",
       "    </tr>\n",
       "    <tr>\n",
       "      <th>2</th>\n",
       "      <td>165617</td>\n",
       "      <td>75887636</td>\n",
       "      <td>31.7386</td>\n",
       "      <td>-2.2595</td>\n",
       "      <td>-1.3323</td>\n",
       "      <td>-1</td>\n",
       "      <td>0.0879</td>\n",
       "      <td>0.0000</td>\n",
       "      <td>30.2344</td>\n",
       "      <td>-0.4684</td>\n",
       "      <td>1.8833</td>\n",
       "      <td>1</td>\n",
       "      <td>-0.0876</td>\n",
       "      <td>0.0000</td>\n",
       "    </tr>\n",
       "    <tr>\n",
       "      <th>3</th>\n",
       "      <td>165617</td>\n",
       "      <td>75779415</td>\n",
       "      <td>39.7394</td>\n",
       "      <td>-0.7123</td>\n",
       "      <td>-0.3123</td>\n",
       "      <td>1</td>\n",
       "      <td>0.0585</td>\n",
       "      <td>0.0000</td>\n",
       "      <td>48.2790</td>\n",
       "      <td>-0.1956</td>\n",
       "      <td>2.9703</td>\n",
       "      <td>-1</td>\n",
       "      <td>-0.0492</td>\n",
       "      <td>0.0000</td>\n",
       "    </tr>\n",
       "    <tr>\n",
       "      <th>4</th>\n",
       "      <td>165617</td>\n",
       "      <td>75098104</td>\n",
       "      <td>41.2998</td>\n",
       "      <td>-0.1571</td>\n",
       "      <td>-3.0408</td>\n",
       "      <td>1</td>\n",
       "      <td>-0.0305</td>\n",
       "      <td>1.2280</td>\n",
       "      <td>43.4508</td>\n",
       "      <td>0.5910</td>\n",
       "      <td>-0.0428</td>\n",
       "      <td>-1</td>\n",
       "      <td>0.0442</td>\n",
       "      <td>0.0000</td>\n",
       "    </tr>\n",
       "  </tbody>\n",
       "</table>\n",
       "</div>"
      ],
      "text/plain": [
       "      Run     Event      pt1    eta1    phi1  Q1    dxy1    iso1      pt2  \\\n",
       "0  165617  74969122  54.7055 -0.4324  2.5742   1 -0.0745  0.4999  34.2464   \n",
       "1  165617  75138253  24.5872 -2.0522  2.8666  -1 -0.0554  0.0000  28.5389   \n",
       "2  165617  75887636  31.7386 -2.2595 -1.3323  -1  0.0879  0.0000  30.2344   \n",
       "3  165617  75779415  39.7394 -0.7123 -0.3123   1  0.0585  0.0000  48.2790   \n",
       "4  165617  75098104  41.2998 -0.1571 -3.0408   1 -0.0305  1.2280  43.4508   \n",
       "\n",
       "     eta2    phi2  Q2    dxy2    iso2  \n",
       "0 -0.9885 -0.4987  -1  0.0712  3.4221  \n",
       "1  0.3852 -1.9912   1  0.0515  0.0000  \n",
       "2 -0.4684  1.8833   1 -0.0876  0.0000  \n",
       "3 -0.1956  2.9703  -1 -0.0492  0.0000  \n",
       "4  0.5910 -0.0428  -1  0.0442  0.0000  "
      ]
     },
     "execution_count": 2,
     "metadata": {},
     "output_type": "execute_result"
    }
   ],
   "source": [
    "data = pd.read_csv(\"Example.csv\")\n",
    "data.head()"
   ]
  },
  {
   "cell_type": "code",
   "execution_count": 3,
   "metadata": {},
   "outputs": [],
   "source": [
    "invariant_mass = np.sqrt(2*data.pt1*data.pt2*(np.cosh(data.eta1 - data.eta2) - np.cos(data.phi1 - data.phi2)))"
   ]
  },
  {
   "cell_type": "code",
   "execution_count": 4,
   "metadata": {},
   "outputs": [
    {
     "name": "stdout",
     "output_type": "stream",
     "text": [
      "0       89.885919\n",
      "1       88.812177\n",
      "2       88.474683\n",
      "3       90.332429\n",
      "4       90.515882\n",
      "          ...    \n",
      "9995    61.612327\n",
      "9996    91.859015\n",
      "9997    87.614328\n",
      "9998    90.844048\n",
      "9999    90.316659\n",
      "Length: 10000, dtype: float64\n"
     ]
    }
   ],
   "source": [
    "print(invariant_mass)"
   ]
  },
  {
   "cell_type": "code",
   "execution_count": 5,
   "metadata": {},
   "outputs": [
    {
     "data": {
      "text/html": [
       "<div>\n",
       "<style scoped>\n",
       "    .dataframe tbody tr th:only-of-type {\n",
       "        vertical-align: middle;\n",
       "    }\n",
       "\n",
       "    .dataframe tbody tr th {\n",
       "        vertical-align: top;\n",
       "    }\n",
       "\n",
       "    .dataframe thead th {\n",
       "        text-align: right;\n",
       "    }\n",
       "</style>\n",
       "<table border=\"1\" class=\"dataframe\">\n",
       "  <thead>\n",
       "    <tr style=\"text-align: right;\">\n",
       "      <th></th>\n",
       "      <th>Run</th>\n",
       "      <th>Event</th>\n",
       "      <th>pt1</th>\n",
       "      <th>eta1</th>\n",
       "      <th>phi1</th>\n",
       "      <th>Q1</th>\n",
       "      <th>dxy1</th>\n",
       "      <th>iso1</th>\n",
       "      <th>pt2</th>\n",
       "      <th>eta2</th>\n",
       "      <th>phi2</th>\n",
       "      <th>Q2</th>\n",
       "      <th>dxy2</th>\n",
       "      <th>iso2</th>\n",
       "      <th>M</th>\n",
       "    </tr>\n",
       "  </thead>\n",
       "  <tbody>\n",
       "    <tr>\n",
       "      <th>0</th>\n",
       "      <td>165617</td>\n",
       "      <td>74969122</td>\n",
       "      <td>54.7055</td>\n",
       "      <td>-0.4324</td>\n",
       "      <td>2.5742</td>\n",
       "      <td>1</td>\n",
       "      <td>-0.0745</td>\n",
       "      <td>0.4999</td>\n",
       "      <td>34.2464</td>\n",
       "      <td>-0.9885</td>\n",
       "      <td>-0.4987</td>\n",
       "      <td>-1</td>\n",
       "      <td>0.0712</td>\n",
       "      <td>3.4221</td>\n",
       "      <td>89.885919</td>\n",
       "    </tr>\n",
       "    <tr>\n",
       "      <th>1</th>\n",
       "      <td>165617</td>\n",
       "      <td>75138253</td>\n",
       "      <td>24.5872</td>\n",
       "      <td>-2.0522</td>\n",
       "      <td>2.8666</td>\n",
       "      <td>-1</td>\n",
       "      <td>-0.0554</td>\n",
       "      <td>0.0000</td>\n",
       "      <td>28.5389</td>\n",
       "      <td>0.3852</td>\n",
       "      <td>-1.9912</td>\n",
       "      <td>1</td>\n",
       "      <td>0.0515</td>\n",
       "      <td>0.0000</td>\n",
       "      <td>88.812177</td>\n",
       "    </tr>\n",
       "    <tr>\n",
       "      <th>2</th>\n",
       "      <td>165617</td>\n",
       "      <td>75887636</td>\n",
       "      <td>31.7386</td>\n",
       "      <td>-2.2595</td>\n",
       "      <td>-1.3323</td>\n",
       "      <td>-1</td>\n",
       "      <td>0.0879</td>\n",
       "      <td>0.0000</td>\n",
       "      <td>30.2344</td>\n",
       "      <td>-0.4684</td>\n",
       "      <td>1.8833</td>\n",
       "      <td>1</td>\n",
       "      <td>-0.0876</td>\n",
       "      <td>0.0000</td>\n",
       "      <td>88.474683</td>\n",
       "    </tr>\n",
       "    <tr>\n",
       "      <th>3</th>\n",
       "      <td>165617</td>\n",
       "      <td>75779415</td>\n",
       "      <td>39.7394</td>\n",
       "      <td>-0.7123</td>\n",
       "      <td>-0.3123</td>\n",
       "      <td>1</td>\n",
       "      <td>0.0585</td>\n",
       "      <td>0.0000</td>\n",
       "      <td>48.2790</td>\n",
       "      <td>-0.1956</td>\n",
       "      <td>2.9703</td>\n",
       "      <td>-1</td>\n",
       "      <td>-0.0492</td>\n",
       "      <td>0.0000</td>\n",
       "      <td>90.332429</td>\n",
       "    </tr>\n",
       "    <tr>\n",
       "      <th>4</th>\n",
       "      <td>165617</td>\n",
       "      <td>75098104</td>\n",
       "      <td>41.2998</td>\n",
       "      <td>-0.1571</td>\n",
       "      <td>-3.0408</td>\n",
       "      <td>1</td>\n",
       "      <td>-0.0305</td>\n",
       "      <td>1.2280</td>\n",
       "      <td>43.4508</td>\n",
       "      <td>0.5910</td>\n",
       "      <td>-0.0428</td>\n",
       "      <td>-1</td>\n",
       "      <td>0.0442</td>\n",
       "      <td>0.0000</td>\n",
       "      <td>90.515882</td>\n",
       "    </tr>\n",
       "  </tbody>\n",
       "</table>\n",
       "</div>"
      ],
      "text/plain": [
       "      Run     Event      pt1    eta1    phi1  Q1    dxy1    iso1      pt2  \\\n",
       "0  165617  74969122  54.7055 -0.4324  2.5742   1 -0.0745  0.4999  34.2464   \n",
       "1  165617  75138253  24.5872 -2.0522  2.8666  -1 -0.0554  0.0000  28.5389   \n",
       "2  165617  75887636  31.7386 -2.2595 -1.3323  -1  0.0879  0.0000  30.2344   \n",
       "3  165617  75779415  39.7394 -0.7123 -0.3123   1  0.0585  0.0000  48.2790   \n",
       "4  165617  75098104  41.2998 -0.1571 -3.0408   1 -0.0305  1.2280  43.4508   \n",
       "\n",
       "     eta2    phi2  Q2    dxy2    iso2          M  \n",
       "0 -0.9885 -0.4987  -1  0.0712  3.4221  89.885919  \n",
       "1  0.3852 -1.9912   1  0.0515  0.0000  88.812177  \n",
       "2 -0.4684  1.8833   1 -0.0876  0.0000  88.474683  \n",
       "3 -0.1956  2.9703  -1 -0.0492  0.0000  90.332429  \n",
       "4  0.5910 -0.0428  -1  0.0442  0.0000  90.515882  "
      ]
     },
     "execution_count": 5,
     "metadata": {},
     "output_type": "execute_result"
    }
   ],
   "source": [
    "dataset = data.assign(M=invariant_mass)\n",
    "dataset.head()"
   ]
  },
  {
   "cell_type": "code",
   "execution_count": 6,
   "metadata": {},
   "outputs": [
    {
     "data": {
      "text/plain": [
       "count    10000.000000\n",
       "mean        87.973980\n",
       "std          8.840568\n",
       "min         60.002249\n",
       "25%         86.940134\n",
       "50%         90.285408\n",
       "75%         92.152627\n",
       "max        119.952704\n",
       "Name: M, dtype: float64"
      ]
     },
     "execution_count": 6,
     "metadata": {},
     "output_type": "execute_result"
    }
   ],
   "source": [
    "dataset.M.describe()"
   ]
  },
  {
   "cell_type": "code",
   "execution_count": 7,
   "metadata": {},
   "outputs": [
    {
     "data": {
      "image/png": "[encoded data removed]",
      "text/plain": [
       "<Figure size 432x288 with 1 Axes>"
      ]
     },
     "metadata": {
      "needs_background": "light"
     },
     "output_type": "display_data"
    }
   ],
   "source": [
    "plt.hist(dataset.M, bins=1000)\n",
    "plt.xlabel(\"Invariant Mass [GeV]\")\n",
    "plt.ylabel(\"Number of Event\")\n",
    "plt.show()"
   ]
  },
  {
   "cell_type": "markdown",
   "metadata": {},
   "source": [
    "newdata = dataset[(dataset.M >= 85) & (dataset.M <= 100)]\n",
    "print(dataset.M)"
   ]
  },
  {
   "cell_type": "code",
   "execution_count": 8,
   "metadata": {},
   "outputs": [
    {
     "ename": "NameError",
     "evalue": "name 'newdata' is not defined",
     "output_type": "error",
     "traceback": [
      "\u001b[0;31m---------------------------------------------------------------------------\u001b[0m",
      "\u001b[0;31mNameError\u001b[0m                                 Traceback (most recent call last)",
      "\u001b[0;32m<ipython-input-8-71094c9716f2>\u001b[0m in \u001b[0;36m<module>\u001b[0;34m\u001b[0m\n\u001b[0;32m----> 1\u001b[0;31m \u001b[0mplt\u001b[0m\u001b[0;34m.\u001b[0m\u001b[0mhist\u001b[0m\u001b[0;34m(\u001b[0m\u001b[0mnewdata\u001b[0m\u001b[0;34m.\u001b[0m\u001b[0mM\u001b[0m\u001b[0;34m,\u001b[0m \u001b[0mbins\u001b[0m\u001b[0;34m=\u001b[0m\u001b[0;36m1000\u001b[0m\u001b[0;34m)\u001b[0m\u001b[0;34m\u001b[0m\u001b[0;34m\u001b[0m\u001b[0m\n\u001b[0m\u001b[1;32m      2\u001b[0m \u001b[0mplt\u001b[0m\u001b[0;34m.\u001b[0m\u001b[0mxlabel\u001b[0m\u001b[0;34m(\u001b[0m\u001b[0;34m\"Invariant Mass [GeV]\"\u001b[0m\u001b[0;34m)\u001b[0m\u001b[0;34m\u001b[0m\u001b[0;34m\u001b[0m\u001b[0m\n\u001b[1;32m      3\u001b[0m \u001b[0mplt\u001b[0m\u001b[0;34m.\u001b[0m\u001b[0mylabel\u001b[0m\u001b[0;34m(\u001b[0m\u001b[0;34m\"Number of Event\"\u001b[0m\u001b[0;34m)\u001b[0m\u001b[0;34m\u001b[0m\u001b[0;34m\u001b[0m\u001b[0m\n\u001b[1;32m      4\u001b[0m \u001b[0mplt\u001b[0m\u001b[0;34m.\u001b[0m\u001b[0mshow\u001b[0m\u001b[0;34m(\u001b[0m\u001b[0;34m)\u001b[0m\u001b[0;34m\u001b[0m\u001b[0;34m\u001b[0m\u001b[0m\n",
      "\u001b[0;31mNameError\u001b[0m: name 'newdata' is not defined"
     ]
    }
   ],
   "source": [
    "plt.hist(newdata.M, bins=1000)\n",
    "plt.xlabel(\"Invariant Mass [GeV]\")\n",
    "plt.ylabel(\"Number of Event\")\n",
    "plt.show()"
   ]
  },
  {
   "cell_type": "code",
   "execution_count": null,
   "metadata": {},
   "outputs": [],
   "source": [
    "newdata.M.describe()"
   ]
  },
  {
   "cell_type": "code",
   "execution_count": null,
   "metadata": {},
   "outputs": [],
   "source": [
    "se = np.std(newdata.M)/np.sqrt(newdata.shape[0])\n",
    "se"
   ]
  },
  {
   "cell_type": "markdown",
   "metadata": {},
   "source": [
    "ได้\n",
    "mean = 90.350607, \n",
    "Standard Deviation = 3.342431, \n",
    "Standard Error = $ \\frac{Standard Deviation}{\\sqrt(n)} $ = 0.036776"
   ]
  },
  {
   "cell_type": "markdown",
   "metadata": {},
   "source": [
    "เพราะฉะนั้น อนุภาคที่พบ คือ Z Boson เพราะมีมวลใกล้เคียงกับค่าจริงซึ่งคือ 91.177 GeV"
   ]
  }
 ],
 "metadata": {
  "kernelspec": {
   "display_name": "Python 3",
   "language": "python",
   "name": "python3"
  },
  "language_info": {
   "codemirror_mode": {
    "name": "ipython",
    "version": 3
   },
   "file_extension": ".py",
   "mimetype": "text/x-python",
   "name": "python",
   "nbconvert_exporter": "python",
   "pygments_lexer": "ipython3",
   "version": "3.7.6"
  }
 },
 "nbformat": 4,
 "nbformat_minor": 4
}
