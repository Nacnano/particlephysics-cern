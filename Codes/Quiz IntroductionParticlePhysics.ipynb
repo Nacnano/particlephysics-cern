{
 "cells": [
  {
   "cell_type": "markdown",
   "id": "635611f2",
   "metadata": {},
   "source": [
    "# Pseudorapidity Resolution"
   ]
  },
  {
   "cell_type": "markdown",
   "id": "fb26f8e7",
   "metadata": {},
   "source": [
    " At CERN particles are accelerated and collided with the LHC (Large Hadron Collider) particle accelerator. With the CMS detector the new particles created in these collisions can be observed and measured. There is the opened CMS detector in the picture below. [https://commons.wikimedia.org/wiki/File:CMS@CERN.jpg]\n",
    "<img src=\"CMS1.png\" width=\"500\" height=\"400\">"
   ]
  },
  {
   "cell_type": "markdown",
   "id": "773de817",
   "metadata": {},
   "source": [
    "The pseudorapidity is a function of $\\theta$, $\\eta = -\\ln\\big|\\tan \\big(\\frac{\\theta}{2}\\big)\\big|$, where $\\theta$ is defined as the angle from the z-axis in the xz-plane. \n",
    "<img src=\"CMS2.png\" width=\"400\" height=\"400\"> \n",
    "We can consider the invariant mass (M) from $\\sqrt{2p_{T1}p_{T2}(\\cosh(\\eta_1 - \\eta_2) - \\cos(\\phi_1 - \\phi_2) }$."
   ]
  },
  {
   "cell_type": "markdown",
   "id": "47a31280",
   "metadata": {},
   "source": [
    "# 1. จงแสดงกราฟระหว่าง Pseudorapidity และ $\\theta$ เมื่อ $1^{\\circ}\\leq\\theta\\leq90^{\\circ}$"
   ]
  },
  {
   "cell_type": "code",
   "execution_count": null,
   "id": "b426ba2f",
   "metadata": {},
   "outputs": [],
   "source": [
    "import pandas as pd\n",
    "import numpy as np\n",
    "import matplotlib.pyplot as plt\n",
    "\n",
    "data = pd.read_csv(\"Final.csv\")\n",
    "\n",
    "x = np.arange(np.pi/180,np.pi/2,0.01)\n",
    "y = -np.log(np.tan(x)/2)\n",
    "\n",
    "plt.plot(x,y)\n",
    "plt.show()"
   ]
  },
  {
   "cell_type": "markdown",
   "id": "a72c40a0",
   "metadata": {},
   "source": [
    "# 2. จงแสดงวิธีการวิเคราะห์ข้อมูลและเติมข้อมูลลงในตารางต่อไปนี้\n",
    " | Pseudorapidity      | Entries | The average mass (GeV) | The standard deviation (GeV)    |\n",
    " | :---    |  :---       |    :----:   |          ---: |\n",
    " | $|\\eta|$ $\\leq$ 0.5     | $N_1$ | $M_1$   |  $\\sigma_1$   |\n",
    " | 0.5 < $|\\eta|$ $\\leq$ 1.0 | $N_2$  |   $M_2$     |  $\\sigma_2$   |  \n",
    " | 1.0 < $|\\eta|$ $\\leq$ 2.0   | $N_3$ |  $M_3$     |  $\\sigma_3$   |\n",
    " | 2.0 < $|\\eta|$ $\\leq$ 3.0   | $N_4$ | $M_4$     |  $\\sigma_4$   |\n",
    " | 3.0 < $|\\eta|$   | $N_5$ | $M_5$      |  $\\sigma_5$   |\n",
    "\n"
   ]
  },
  {
   "cell_type": "code",
   "execution_count": null,
   "id": "7d35980f",
   "metadata": {},
   "outputs": [],
   "source": [
    "\n",
    "\n",
    "invariant_mass = np.sqrt(2*data.pt1*data.pt2*(np.cosh(data.eta1 - data.eta2) - np.cos(data.phi1 - data.phi2)))\n",
    "dataset = data.assign(M=invariant_mass)\n",
    "dataset.head()"
   ]
  },
  {
   "cell_type": "code",
   "execution_count": null,
   "id": "3a0ad3ec",
   "metadata": {},
   "outputs": [],
   "source": [
    "pseudorapidity1 = np.abs(-np.log(np.tan(data.eta1)/2 ) )\n",
    "pseudorapidity2 = np.abs(-np.log(np.tan(data.eta2)/2 ) )\n",
    "dataset = dataset.assign(nu1=pseudorapidity1)\n",
    "dataset = dataset.assign(nu2=pseudorapidity2)\n",
    "\n",
    "newdata1 = dataset[(dataset.nu1 >= 0) & (dataset.nu1 <= 0.5) & (dataset.nu2 >= 0) & (dataset.nu2 <= 0.5)]\n",
    "newdata2 = dataset[(dataset.nu1 > 0.5) & (dataset.nu1 <= 1.0) & (dataset.nu2 > 0.5) & (dataset.nu2 <= 1.0)]\n",
    "newdata3 = dataset[(dataset.nu1 > 1.0) & (dataset.nu1 <= 2.0) & (dataset.nu2 > 1.0) & (dataset.nu2 <= 2.0)]\n",
    "newdata4 = dataset[(dataset.nu1 > 2.0) & (dataset.nu1 <= 3.0) & (dataset.nu2 > 2.0) & (dataset.nu2 <= 3.0)]\n",
    "newdata5 = dataset[(dataset.nu1 > 3.0) & (dataset.nu2 > 3.0) ]\n",
    "\n",
    "\n",
    "newdata1.M.mean()"
   ]
  },
  {
   "cell_type": "code",
   "execution_count": null,
   "id": "75bdc097",
   "metadata": {},
   "outputs": [],
   "source": [
    "newdata2.M.mean()"
   ]
  },
  {
   "cell_type": "code",
   "execution_count": null,
   "id": "5bebc836",
   "metadata": {},
   "outputs": [],
   "source": [
    "newdata3.M.mean()"
   ]
  },
  {
   "cell_type": "code",
   "execution_count": null,
   "id": "9cf1c923",
   "metadata": {},
   "outputs": [],
   "source": [
    "newdata4.M.mean()"
   ]
  },
  {
   "cell_type": "code",
   "execution_count": null,
   "id": "82a05608",
   "metadata": {},
   "outputs": [],
   "source": [
    "newdata5.M.mean()"
   ]
  },
  {
   "cell_type": "code",
   "execution_count": null,
   "id": "e7764843",
   "metadata": {},
   "outputs": [],
   "source": [
    "newdata1.M.std()"
   ]
  },
  {
   "cell_type": "code",
   "execution_count": null,
   "id": "1215d32c",
   "metadata": {},
   "outputs": [],
   "source": [
    "newdata2.M.std()"
   ]
  },
  {
   "cell_type": "code",
   "execution_count": null,
   "id": "cdd851f5",
   "metadata": {},
   "outputs": [],
   "source": [
    "newdata3.M.std()"
   ]
  },
  {
   "cell_type": "code",
   "execution_count": null,
   "id": "f5d09e88",
   "metadata": {},
   "outputs": [],
   "source": [
    "newdata4.M.std()"
   ]
  },
  {
   "cell_type": "code",
   "execution_count": null,
   "id": "95a3aaa9",
   "metadata": {},
   "outputs": [],
   "source": [
    "newdata5.M.std()"
   ]
  },
  {
   "cell_type": "markdown",
   "id": "1d268390",
   "metadata": {},
   "source": [
    "# 3. จงพล็อตกราฟระหว่าง Pseudorapidity vs The average mass (GeV)"
   ]
  },
  {
   "cell_type": "code",
   "execution_count": null,
   "id": "42e5e063",
   "metadata": {},
   "outputs": [],
   "source": [
    "x1 = ['$|\\eta|\\leq0.5$', '$0.5<|\\eta|\\leq1.0$','$1.0<|\\eta|\\leq2.0$', '$2.0<|\\eta|\\leq3.0$', '$3.0<|\\eta|$']\n",
    "y1 = []"
   ]
  },
  {
   "cell_type": "code",
   "execution_count": null,
   "id": "89d8e9f3",
   "metadata": {},
   "outputs": [],
   "source": []
  },
  {
   "cell_type": "markdown",
   "id": "c85fe2ea",
   "metadata": {},
   "source": [
    "# 4. จงพล็อตกราฟระหว่าง Pseudorapidity vs The standard deviation (GeV)"
   ]
  },
  {
   "cell_type": "code",
   "execution_count": null,
   "id": "7b030812",
   "metadata": {},
   "outputs": [],
   "source": [
    "x1 = ['$|\\eta|\\leq0.5$', '$0.5<|\\eta|\\leq1.0$','$1.0<|\\eta|\\leq2.0$', '$2.0<|\\eta|\\leq3.0$', '$3.0<|\\eta|$']\n",
    "y2 = []"
   ]
  },
  {
   "cell_type": "code",
   "execution_count": null,
   "id": "a37582ef",
   "metadata": {},
   "outputs": [],
   "source": []
  },
  {
   "cell_type": "markdown",
   "id": "9c16d35e",
   "metadata": {},
   "source": [
    "# 5. จากกราฟในข้อ 2 และ 3 จงวิเคราะห์ผลจากการทดลองข้างต้น"
   ]
  },
  {
   "cell_type": "code",
   "execution_count": null,
   "id": "57f8aac6",
   "metadata": {},
   "outputs": [],
   "source": []
  },
  {
   "cell_type": "markdown",
   "id": "51912b69",
   "metadata": {},
   "source": [
    "## วิธีการส่งไฟล์ --> ไปที่ File --> Download as --> HTML (.html) หรือ Notebook (.ipynb) --> ส่งใน GG Classroom"
   ]
  }
 ],
 "metadata": {
  "kernelspec": {
   "display_name": "Python 3",
   "language": "python",
   "name": "python3"
  },
  "language_info": {
   "codemirror_mode": {
    "name": "ipython",
    "version": 3
   },
   "file_extension": ".py",
   "mimetype": "text/x-python",
   "name": "python",
   "nbconvert_exporter": "python",
   "pygments_lexer": "ipython3"
  }
 },
 "nbformat": 4,
 "nbformat_minor": 5
}
