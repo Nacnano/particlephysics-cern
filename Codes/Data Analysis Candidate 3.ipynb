{
 "cells": [
  {
   "cell_type": "code",
   "execution_count": 1,
   "metadata": {},
   "outputs": [],
   "source": [
    "import pandas as pd\n",
    "import numpy as np\n",
    "import matplotlib.pyplot as plt"
   ]
  },
  {
   "cell_type": "code",
   "execution_count": 2,
   "metadata": {
    "scrolled": true
   },
   "outputs": [
    {
     "data": {
      "text/html": [
       "<div>\n",
       "<style scoped>\n",
       "    .dataframe tbody tr th:only-of-type {\n",
       "        vertical-align: middle;\n",
       "    }\n",
       "\n",
       "    .dataframe tbody tr th {\n",
       "        vertical-align: top;\n",
       "    }\n",
       "\n",
       "    .dataframe thead th {\n",
       "        text-align: right;\n",
       "    }\n",
       "</style>\n",
       "<table border=\"1\" class=\"dataframe\">\n",
       "  <thead>\n",
       "    <tr style=\"text-align: right;\">\n",
       "      <th></th>\n",
       "      <th>Run</th>\n",
       "      <th>Event</th>\n",
       "      <th>pt1</th>\n",
       "      <th>eta1</th>\n",
       "      <th>phi1</th>\n",
       "      <th>Q1</th>\n",
       "      <th>type1</th>\n",
       "      <th>sigmaEtaEta1</th>\n",
       "      <th>HoverE1</th>\n",
       "      <th>isoTrack1</th>\n",
       "      <th>...</th>\n",
       "      <th>pt2</th>\n",
       "      <th>eta2</th>\n",
       "      <th>phi2</th>\n",
       "      <th>Q2</th>\n",
       "      <th>type2</th>\n",
       "      <th>sigmaEtaEta2</th>\n",
       "      <th>HoverE2</th>\n",
       "      <th>isoTrack2</th>\n",
       "      <th>isoEcal2</th>\n",
       "      <th>isoHcal2</th>\n",
       "    </tr>\n",
       "  </thead>\n",
       "  <tbody>\n",
       "    <tr>\n",
       "      <th>0</th>\n",
       "      <td>163286</td>\n",
       "      <td>109060857</td>\n",
       "      <td>37.5667</td>\n",
       "      <td>2.2892</td>\n",
       "      <td>2.0526</td>\n",
       "      <td>-1</td>\n",
       "      <td>EE</td>\n",
       "      <td>0.0251</td>\n",
       "      <td>0.0090</td>\n",
       "      <td>0.0000</td>\n",
       "      <td>...</td>\n",
       "      <td>45.4315</td>\n",
       "      <td>1.4706</td>\n",
       "      <td>-1.1630</td>\n",
       "      <td>1</td>\n",
       "      <td>EB</td>\n",
       "      <td>0.0008</td>\n",
       "      <td>0.000</td>\n",
       "      <td>0.0000</td>\n",
       "      <td>1.0190</td>\n",
       "      <td>0.0000</td>\n",
       "    </tr>\n",
       "    <tr>\n",
       "      <th>1</th>\n",
       "      <td>163286</td>\n",
       "      <td>109275715</td>\n",
       "      <td>36.2901</td>\n",
       "      <td>-0.8373</td>\n",
       "      <td>-1.5859</td>\n",
       "      <td>1</td>\n",
       "      <td>EB</td>\n",
       "      <td>0.0078</td>\n",
       "      <td>0.0438</td>\n",
       "      <td>0.0000</td>\n",
       "      <td>...</td>\n",
       "      <td>60.5754</td>\n",
       "      <td>-0.4896</td>\n",
       "      <td>1.0496</td>\n",
       "      <td>-1</td>\n",
       "      <td>EB</td>\n",
       "      <td>0.0112</td>\n",
       "      <td>0.000</td>\n",
       "      <td>0.7185</td>\n",
       "      <td>1.8461</td>\n",
       "      <td>0.0000</td>\n",
       "    </tr>\n",
       "    <tr>\n",
       "      <th>2</th>\n",
       "      <td>163286</td>\n",
       "      <td>109075352</td>\n",
       "      <td>25.9705</td>\n",
       "      <td>-0.6974</td>\n",
       "      <td>1.6360</td>\n",
       "      <td>-1</td>\n",
       "      <td>EB</td>\n",
       "      <td>0.0097</td>\n",
       "      <td>0.0407</td>\n",
       "      <td>6.2870</td>\n",
       "      <td>...</td>\n",
       "      <td>45.2954</td>\n",
       "      <td>-2.0401</td>\n",
       "      <td>3.1187</td>\n",
       "      <td>1</td>\n",
       "      <td>EE</td>\n",
       "      <td>0.0260</td>\n",
       "      <td>0.028</td>\n",
       "      <td>15.2170</td>\n",
       "      <td>4.5337</td>\n",
       "      <td>3.8370</td>\n",
       "    </tr>\n",
       "    <tr>\n",
       "      <th>3</th>\n",
       "      <td>163286</td>\n",
       "      <td>109169766</td>\n",
       "      <td>41.0075</td>\n",
       "      <td>1.4619</td>\n",
       "      <td>-0.5325</td>\n",
       "      <td>1</td>\n",
       "      <td>EB</td>\n",
       "      <td>0.0088</td>\n",
       "      <td>0.0000</td>\n",
       "      <td>0.0000</td>\n",
       "      <td>...</td>\n",
       "      <td>45.9013</td>\n",
       "      <td>1.1561</td>\n",
       "      <td>2.4786</td>\n",
       "      <td>-1</td>\n",
       "      <td>EB</td>\n",
       "      <td>0.0086</td>\n",
       "      <td>0.000</td>\n",
       "      <td>0.0000</td>\n",
       "      <td>2.4388</td>\n",
       "      <td>0.5676</td>\n",
       "    </tr>\n",
       "    <tr>\n",
       "      <th>4</th>\n",
       "      <td>163286</td>\n",
       "      <td>108947653</td>\n",
       "      <td>39.8985</td>\n",
       "      <td>-0.5927</td>\n",
       "      <td>-2.3947</td>\n",
       "      <td>1</td>\n",
       "      <td>EB</td>\n",
       "      <td>0.0153</td>\n",
       "      <td>0.0000</td>\n",
       "      <td>2.5435</td>\n",
       "      <td>...</td>\n",
       "      <td>34.8931</td>\n",
       "      <td>-2.2444</td>\n",
       "      <td>0.6106</td>\n",
       "      <td>-1</td>\n",
       "      <td>EE</td>\n",
       "      <td>0.0290</td>\n",
       "      <td>0.000</td>\n",
       "      <td>12.4229</td>\n",
       "      <td>0.4534</td>\n",
       "      <td>0.9096</td>\n",
       "    </tr>\n",
       "  </tbody>\n",
       "</table>\n",
       "<p>5 rows × 22 columns</p>\n",
       "</div>"
      ],
      "text/plain": [
       "      Run      Event      pt1    eta1    phi1  Q1 type1  sigmaEtaEta1  \\\n",
       "0  163286  109060857  37.5667  2.2892  2.0526  -1    EE        0.0251   \n",
       "1  163286  109275715  36.2901 -0.8373 -1.5859   1    EB        0.0078   \n",
       "2  163286  109075352  25.9705 -0.6974  1.6360  -1    EB        0.0097   \n",
       "3  163286  109169766  41.0075  1.4619 -0.5325   1    EB        0.0088   \n",
       "4  163286  108947653  39.8985 -0.5927 -2.3947   1    EB        0.0153   \n",
       "\n",
       "   HoverE1  isoTrack1  ...      pt2    eta2    phi2  Q2  type2  sigmaEtaEta2  \\\n",
       "0   0.0090     0.0000  ...  45.4315  1.4706 -1.1630   1     EB        0.0008   \n",
       "1   0.0438     0.0000  ...  60.5754 -0.4896  1.0496  -1     EB        0.0112   \n",
       "2   0.0407     6.2870  ...  45.2954 -2.0401  3.1187   1     EE        0.0260   \n",
       "3   0.0000     0.0000  ...  45.9013  1.1561  2.4786  -1     EB        0.0086   \n",
       "4   0.0000     2.5435  ...  34.8931 -2.2444  0.6106  -1     EE        0.0290   \n",
       "\n",
       "  HoverE2  isoTrack2  isoEcal2  isoHcal2  \n",
       "0   0.000     0.0000    1.0190    0.0000  \n",
       "1   0.000     0.7185    1.8461    0.0000  \n",
       "2   0.028    15.2170    4.5337    3.8370  \n",
       "3   0.000     0.0000    2.4388    0.5676  \n",
       "4   0.000    12.4229    0.4534    0.9096  \n",
       "\n",
       "[5 rows x 22 columns]"
      ]
     },
     "execution_count": 2,
     "metadata": {},
     "output_type": "execute_result"
    }
   ],
   "source": [
    "data = pd.read_csv(\"Candidate3.csv\")\n",
    "data.head()"
   ]
  },
  {
   "cell_type": "code",
   "execution_count": 3,
   "metadata": {},
   "outputs": [],
   "source": [
    "invariant_mass = np.sqrt(2*data.pt1*data.pt2*(np.cosh(data.eta1 - data.eta2) - np.cos(data.phi1 - data.phi2)))"
   ]
  },
  {
   "cell_type": "code",
   "execution_count": 4,
   "metadata": {},
   "outputs": [
    {
     "name": "stdout",
     "output_type": "stream",
     "text": [
      "0        89.590677\n",
      "1        92.252203\n",
      "2        67.859050\n",
      "3        87.604679\n",
      "4       101.424147\n",
      "           ...    \n",
      "9995    108.001726\n",
      "9996     89.655188\n",
      "9997     85.123598\n",
      "9998     90.427261\n",
      "9999     82.893701\n",
      "Length: 10000, dtype: float64\n"
     ]
    }
   ],
   "source": [
    "print(invariant_mass)"
   ]
  },
  {
   "cell_type": "code",
   "execution_count": 5,
   "metadata": {},
   "outputs": [
    {
     "data": {
      "text/html": [
       "<div>\n",
       "<style scoped>\n",
       "    .dataframe tbody tr th:only-of-type {\n",
       "        vertical-align: middle;\n",
       "    }\n",
       "\n",
       "    .dataframe tbody tr th {\n",
       "        vertical-align: top;\n",
       "    }\n",
       "\n",
       "    .dataframe thead th {\n",
       "        text-align: right;\n",
       "    }\n",
       "</style>\n",
       "<table border=\"1\" class=\"dataframe\">\n",
       "  <thead>\n",
       "    <tr style=\"text-align: right;\">\n",
       "      <th></th>\n",
       "      <th>Run</th>\n",
       "      <th>Event</th>\n",
       "      <th>pt1</th>\n",
       "      <th>eta1</th>\n",
       "      <th>phi1</th>\n",
       "      <th>Q1</th>\n",
       "      <th>type1</th>\n",
       "      <th>sigmaEtaEta1</th>\n",
       "      <th>HoverE1</th>\n",
       "      <th>isoTrack1</th>\n",
       "      <th>...</th>\n",
       "      <th>eta2</th>\n",
       "      <th>phi2</th>\n",
       "      <th>Q2</th>\n",
       "      <th>type2</th>\n",
       "      <th>sigmaEtaEta2</th>\n",
       "      <th>HoverE2</th>\n",
       "      <th>isoTrack2</th>\n",
       "      <th>isoEcal2</th>\n",
       "      <th>isoHcal2</th>\n",
       "      <th>M</th>\n",
       "    </tr>\n",
       "  </thead>\n",
       "  <tbody>\n",
       "    <tr>\n",
       "      <th>0</th>\n",
       "      <td>163286</td>\n",
       "      <td>109060857</td>\n",
       "      <td>37.5667</td>\n",
       "      <td>2.2892</td>\n",
       "      <td>2.0526</td>\n",
       "      <td>-1</td>\n",
       "      <td>EE</td>\n",
       "      <td>0.0251</td>\n",
       "      <td>0.0090</td>\n",
       "      <td>0.0000</td>\n",
       "      <td>...</td>\n",
       "      <td>1.4706</td>\n",
       "      <td>-1.1630</td>\n",
       "      <td>1</td>\n",
       "      <td>EB</td>\n",
       "      <td>0.0008</td>\n",
       "      <td>0.000</td>\n",
       "      <td>0.0000</td>\n",
       "      <td>1.0190</td>\n",
       "      <td>0.0000</td>\n",
       "      <td>89.590677</td>\n",
       "    </tr>\n",
       "    <tr>\n",
       "      <th>1</th>\n",
       "      <td>163286</td>\n",
       "      <td>109275715</td>\n",
       "      <td>36.2901</td>\n",
       "      <td>-0.8373</td>\n",
       "      <td>-1.5859</td>\n",
       "      <td>1</td>\n",
       "      <td>EB</td>\n",
       "      <td>0.0078</td>\n",
       "      <td>0.0438</td>\n",
       "      <td>0.0000</td>\n",
       "      <td>...</td>\n",
       "      <td>-0.4896</td>\n",
       "      <td>1.0496</td>\n",
       "      <td>-1</td>\n",
       "      <td>EB</td>\n",
       "      <td>0.0112</td>\n",
       "      <td>0.000</td>\n",
       "      <td>0.7185</td>\n",
       "      <td>1.8461</td>\n",
       "      <td>0.0000</td>\n",
       "      <td>92.252203</td>\n",
       "    </tr>\n",
       "    <tr>\n",
       "      <th>2</th>\n",
       "      <td>163286</td>\n",
       "      <td>109075352</td>\n",
       "      <td>25.9705</td>\n",
       "      <td>-0.6974</td>\n",
       "      <td>1.6360</td>\n",
       "      <td>-1</td>\n",
       "      <td>EB</td>\n",
       "      <td>0.0097</td>\n",
       "      <td>0.0407</td>\n",
       "      <td>6.2870</td>\n",
       "      <td>...</td>\n",
       "      <td>-2.0401</td>\n",
       "      <td>3.1187</td>\n",
       "      <td>1</td>\n",
       "      <td>EE</td>\n",
       "      <td>0.0260</td>\n",
       "      <td>0.028</td>\n",
       "      <td>15.2170</td>\n",
       "      <td>4.5337</td>\n",
       "      <td>3.8370</td>\n",
       "      <td>67.859050</td>\n",
       "    </tr>\n",
       "    <tr>\n",
       "      <th>3</th>\n",
       "      <td>163286</td>\n",
       "      <td>109169766</td>\n",
       "      <td>41.0075</td>\n",
       "      <td>1.4619</td>\n",
       "      <td>-0.5325</td>\n",
       "      <td>1</td>\n",
       "      <td>EB</td>\n",
       "      <td>0.0088</td>\n",
       "      <td>0.0000</td>\n",
       "      <td>0.0000</td>\n",
       "      <td>...</td>\n",
       "      <td>1.1561</td>\n",
       "      <td>2.4786</td>\n",
       "      <td>-1</td>\n",
       "      <td>EB</td>\n",
       "      <td>0.0086</td>\n",
       "      <td>0.000</td>\n",
       "      <td>0.0000</td>\n",
       "      <td>2.4388</td>\n",
       "      <td>0.5676</td>\n",
       "      <td>87.604679</td>\n",
       "    </tr>\n",
       "    <tr>\n",
       "      <th>4</th>\n",
       "      <td>163286</td>\n",
       "      <td>108947653</td>\n",
       "      <td>39.8985</td>\n",
       "      <td>-0.5927</td>\n",
       "      <td>-2.3947</td>\n",
       "      <td>1</td>\n",
       "      <td>EB</td>\n",
       "      <td>0.0153</td>\n",
       "      <td>0.0000</td>\n",
       "      <td>2.5435</td>\n",
       "      <td>...</td>\n",
       "      <td>-2.2444</td>\n",
       "      <td>0.6106</td>\n",
       "      <td>-1</td>\n",
       "      <td>EE</td>\n",
       "      <td>0.0290</td>\n",
       "      <td>0.000</td>\n",
       "      <td>12.4229</td>\n",
       "      <td>0.4534</td>\n",
       "      <td>0.9096</td>\n",
       "      <td>101.424147</td>\n",
       "    </tr>\n",
       "  </tbody>\n",
       "</table>\n",
       "<p>5 rows × 23 columns</p>\n",
       "</div>"
      ],
      "text/plain": [
       "      Run      Event      pt1    eta1    phi1  Q1 type1  sigmaEtaEta1  \\\n",
       "0  163286  109060857  37.5667  2.2892  2.0526  -1    EE        0.0251   \n",
       "1  163286  109275715  36.2901 -0.8373 -1.5859   1    EB        0.0078   \n",
       "2  163286  109075352  25.9705 -0.6974  1.6360  -1    EB        0.0097   \n",
       "3  163286  109169766  41.0075  1.4619 -0.5325   1    EB        0.0088   \n",
       "4  163286  108947653  39.8985 -0.5927 -2.3947   1    EB        0.0153   \n",
       "\n",
       "   HoverE1  isoTrack1  ...    eta2    phi2  Q2  type2  sigmaEtaEta2  HoverE2  \\\n",
       "0   0.0090     0.0000  ...  1.4706 -1.1630   1     EB        0.0008    0.000   \n",
       "1   0.0438     0.0000  ... -0.4896  1.0496  -1     EB        0.0112    0.000   \n",
       "2   0.0407     6.2870  ... -2.0401  3.1187   1     EE        0.0260    0.028   \n",
       "3   0.0000     0.0000  ...  1.1561  2.4786  -1     EB        0.0086    0.000   \n",
       "4   0.0000     2.5435  ... -2.2444  0.6106  -1     EE        0.0290    0.000   \n",
       "\n",
       "  isoTrack2  isoEcal2  isoHcal2           M  \n",
       "0    0.0000    1.0190    0.0000   89.590677  \n",
       "1    0.7185    1.8461    0.0000   92.252203  \n",
       "2   15.2170    4.5337    3.8370   67.859050  \n",
       "3    0.0000    2.4388    0.5676   87.604679  \n",
       "4   12.4229    0.4534    0.9096  101.424147  \n",
       "\n",
       "[5 rows x 23 columns]"
      ]
     },
     "execution_count": 5,
     "metadata": {},
     "output_type": "execute_result"
    }
   ],
   "source": [
    "dataset = data.assign(M=invariant_mass)\n",
    "dataset.head()"
   ]
  },
  {
   "cell_type": "code",
   "execution_count": 6,
   "metadata": {},
   "outputs": [
    {
     "data": {
      "text/plain": [
       "count    10000.000000\n",
       "mean        88.891413\n",
       "std         12.125822\n",
       "min         60.001986\n",
       "25%         82.804464\n",
       "50%         89.864602\n",
       "75%         94.016654\n",
       "max        119.967439\n",
       "Name: M, dtype: float64"
      ]
     },
     "execution_count": 6,
     "metadata": {},
     "output_type": "execute_result"
    }
   ],
   "source": [
    "dataset.M.describe()"
   ]
  },
  {
   "cell_type": "code",
   "execution_count": 12,
   "metadata": {},
   "outputs": [
    {
     "data": {
      "image/png": "[encoded data removed]",
      "text/plain": [
       "<Figure size 432x288 with 1 Axes>"
      ]
     },
     "metadata": {
      "needs_background": "light"
     },
     "output_type": "display_data"
    }
   ],
   "source": [
    "plt.hist(dataset.M, bins=200)\n",
    "plt.xlabel(\"Invariant Mass [GeV]\")\n",
    "plt.ylabel(\"Number of Event\")\n",
    "plt.show()"
   ]
  },
  {
   "cell_type": "code",
   "execution_count": 13,
   "metadata": {},
   "outputs": [
    {
     "name": "stdout",
     "output_type": "stream",
     "text": [
      "0       89.590677\n",
      "1       92.252203\n",
      "3       87.604679\n",
      "11      85.501235\n",
      "12      94.537894\n",
      "          ...    \n",
      "9992    95.749101\n",
      "9993    96.616015\n",
      "9996    89.655188\n",
      "9997    85.123598\n",
      "9998    90.427261\n",
      "Name: M, Length: 5241, dtype: float64\n"
     ]
    }
   ],
   "source": [
    "newdata = dataset[(dataset.M >= 85) & (dataset.M <= 97)]\n",
    "print(newdata.M)"
   ]
  },
  {
   "cell_type": "code",
   "execution_count": 15,
   "metadata": {},
   "outputs": [
    {
     "data": {
      "image/png": "[encoded data removed]",
      "text/plain": [
       "<Figure size 432x288 with 1 Axes>"
      ]
     },
     "metadata": {
      "needs_background": "light"
     },
     "output_type": "display_data"
    }
   ],
   "source": [
    "plt.hist(newdata.M, bins=200)\n",
    "plt.xlabel(\"Invariant Mass [GeV]\")\n",
    "plt.ylabel(\"Number of Event\")\n",
    "plt.show()"
   ]
  },
  {
   "cell_type": "code",
   "execution_count": 16,
   "metadata": {},
   "outputs": [
    {
     "data": {
      "text/plain": [
       "count    5241.000000\n",
       "mean       90.708530\n",
       "std         2.824142\n",
       "min        85.017028\n",
       "25%        88.637601\n",
       "50%        90.764686\n",
       "75%        92.646839\n",
       "max        96.998437\n",
       "Name: M, dtype: float64"
      ]
     },
     "execution_count": 16,
     "metadata": {},
     "output_type": "execute_result"
    }
   ],
   "source": [
    "newdata.M.describe()"
   ]
  },
  {
   "cell_type": "code",
   "execution_count": 17,
   "metadata": {},
   "outputs": [
    {
     "data": {
      "text/plain": [
       "0.03900658812870082"
      ]
     },
     "execution_count": 17,
     "metadata": {},
     "output_type": "execute_result"
    }
   ],
   "source": [
    "se = np.std(newdata.M)/np.sqrt(newdata.shape[0])\n",
    "se"
   ]
  },
  {
   "cell_type": "markdown",
   "metadata": {},
   "source": [
    "ได้\n",
    "mean = 90.708530, \n",
    "Standard Deviation = 2.824142, \n",
    "Standard Error = $ \\frac{Standard Deviation}{\\sqrt(n)} $ = 0.039006"
   ]
  },
  {
   "cell_type": "markdown",
   "metadata": {},
   "source": [
    "เพราะฉะนั้น อนุภาคที่พบ คือ Z Boson เพราะมีมวลใกล้เคียงกับค่าจริงซึ่งคือ 91.177 GeV"
   ]
  },
  {
   "cell_type": "code",
   "execution_count": null,
   "metadata": {},
   "outputs": [],
   "source": []
  }
 ],
 "metadata": {
  "kernelspec": {
   "display_name": "Python 3",
   "language": "python",
   "name": "python3"
  },
  "language_info": {
   "codemirror_mode": {
    "name": "ipython",
    "version": 3
   },
   "file_extension": ".py",
   "mimetype": "text/x-python",
   "name": "python",
   "nbconvert_exporter": "python",
   "pygments_lexer": "ipython3",
   "version": "3.7.6"
  }
 },
 "nbformat": 4,
 "nbformat_minor": 4
}
