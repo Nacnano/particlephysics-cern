{
 "cells": [
  {
   "cell_type": "code",
   "execution_count": 1,
   "metadata": {},
   "outputs": [],
   "source": [
    "import pandas as pd\n",
    "import numpy as np\n",
    "import matplotlib.pyplot as plt"
   ]
  },
  {
   "cell_type": "code",
   "execution_count": 2,
   "metadata": {
    "scrolled": true
   },
   "outputs": [
    {
     "data": {
      "text/html": [
       "<div>\n",
       "<style scoped>\n",
       "    .dataframe tbody tr th:only-of-type {\n",
       "        vertical-align: middle;\n",
       "    }\n",
       "\n",
       "    .dataframe tbody tr th {\n",
       "        vertical-align: top;\n",
       "    }\n",
       "\n",
       "    .dataframe thead th {\n",
       "        text-align: right;\n",
       "    }\n",
       "</style>\n",
       "<table border=\"1\" class=\"dataframe\">\n",
       "  <thead>\n",
       "    <tr style=\"text-align: right;\">\n",
       "      <th></th>\n",
       "      <th>Run</th>\n",
       "      <th>Event</th>\n",
       "      <th>type1</th>\n",
       "      <th>E1</th>\n",
       "      <th>px1</th>\n",
       "      <th>py1</th>\n",
       "      <th>pz1</th>\n",
       "      <th>pt1</th>\n",
       "      <th>eta1</th>\n",
       "      <th>phi1</th>\n",
       "      <th>Q1</th>\n",
       "      <th>type2</th>\n",
       "      <th>E2</th>\n",
       "      <th>px2</th>\n",
       "      <th>py2</th>\n",
       "      <th>pz2</th>\n",
       "      <th>pt2</th>\n",
       "      <th>eta2</th>\n",
       "      <th>phi2</th>\n",
       "      <th>Q2</th>\n",
       "    </tr>\n",
       "  </thead>\n",
       "  <tbody>\n",
       "    <tr>\n",
       "      <th>0</th>\n",
       "      <td>165617</td>\n",
       "      <td>75100943</td>\n",
       "      <td>G</td>\n",
       "      <td>6.2039</td>\n",
       "      <td>-4.2666</td>\n",
       "      <td>0.4565</td>\n",
       "      <td>-4.4793</td>\n",
       "      <td>4.2910</td>\n",
       "      <td>-0.9121</td>\n",
       "      <td>3.0350</td>\n",
       "      <td>-1</td>\n",
       "      <td>G</td>\n",
       "      <td>9.6690</td>\n",
       "      <td>7.2740</td>\n",
       "      <td>-2.8211</td>\n",
       "      <td>-5.7104</td>\n",
       "      <td>7.8019</td>\n",
       "      <td>-0.6786</td>\n",
       "      <td>-0.3700</td>\n",
       "      <td>1</td>\n",
       "    </tr>\n",
       "    <tr>\n",
       "      <th>1</th>\n",
       "      <td>165617</td>\n",
       "      <td>75587682</td>\n",
       "      <td>G</td>\n",
       "      <td>19.2892</td>\n",
       "      <td>-4.2121</td>\n",
       "      <td>-0.6516</td>\n",
       "      <td>18.8121</td>\n",
       "      <td>4.2622</td>\n",
       "      <td>2.1905</td>\n",
       "      <td>-2.9881</td>\n",
       "      <td>-1</td>\n",
       "      <td>G</td>\n",
       "      <td>9.8244</td>\n",
       "      <td>4.3439</td>\n",
       "      <td>-0.4735</td>\n",
       "      <td>8.7985</td>\n",
       "      <td>4.3697</td>\n",
       "      <td>1.4497</td>\n",
       "      <td>-0.1086</td>\n",
       "      <td>1</td>\n",
       "    </tr>\n",
       "    <tr>\n",
       "      <th>2</th>\n",
       "      <td>165617</td>\n",
       "      <td>75167029</td>\n",
       "      <td>G</td>\n",
       "      <td>9.7583</td>\n",
       "      <td>2.3903</td>\n",
       "      <td>-3.7824</td>\n",
       "      <td>8.6715</td>\n",
       "      <td>4.4744</td>\n",
       "      <td>1.4156</td>\n",
       "      <td>-1.0072</td>\n",
       "      <td>-1</td>\n",
       "      <td>G</td>\n",
       "      <td>13.5684</td>\n",
       "      <td>-3.3975</td>\n",
       "      <td>5.1910</td>\n",
       "      <td>12.0665</td>\n",
       "      <td>6.2039</td>\n",
       "      <td>1.4187</td>\n",
       "      <td>2.1503</td>\n",
       "      <td>1</td>\n",
       "    </tr>\n",
       "    <tr>\n",
       "      <th>3</th>\n",
       "      <td>165617</td>\n",
       "      <td>75281957</td>\n",
       "      <td>G</td>\n",
       "      <td>9.6365</td>\n",
       "      <td>1.6516</td>\n",
       "      <td>-5.4313</td>\n",
       "      <td>7.7862</td>\n",
       "      <td>5.6769</td>\n",
       "      <td>1.1213</td>\n",
       "      <td>-1.2756</td>\n",
       "      <td>1</td>\n",
       "      <td>G</td>\n",
       "      <td>7.0263</td>\n",
       "      <td>-1.6449</td>\n",
       "      <td>4.4418</td>\n",
       "      <td>5.1887</td>\n",
       "      <td>4.7366</td>\n",
       "      <td>0.9473</td>\n",
       "      <td>1.9255</td>\n",
       "      <td>-1</td>\n",
       "    </tr>\n",
       "    <tr>\n",
       "      <th>4</th>\n",
       "      <td>165617</td>\n",
       "      <td>75393376</td>\n",
       "      <td>G</td>\n",
       "      <td>6.0112</td>\n",
       "      <td>3.3614</td>\n",
       "      <td>2.8883</td>\n",
       "      <td>4.0598</td>\n",
       "      <td>4.4318</td>\n",
       "      <td>0.8208</td>\n",
       "      <td>0.7098</td>\n",
       "      <td>-1</td>\n",
       "      <td>G</td>\n",
       "      <td>7.7557</td>\n",
       "      <td>-5.0416</td>\n",
       "      <td>-3.0126</td>\n",
       "      <td>5.0642</td>\n",
       "      <td>5.8731</td>\n",
       "      <td>0.7806</td>\n",
       "      <td>-2.6030</td>\n",
       "      <td>1</td>\n",
       "    </tr>\n",
       "  </tbody>\n",
       "</table>\n",
       "</div>"
      ],
      "text/plain": [
       "      Run     Event type1       E1     px1     py1      pz1     pt1    eta1  \\\n",
       "0  165617  75100943     G   6.2039 -4.2666  0.4565  -4.4793  4.2910 -0.9121   \n",
       "1  165617  75587682     G  19.2892 -4.2121 -0.6516  18.8121  4.2622  2.1905   \n",
       "2  165617  75167029     G   9.7583  2.3903 -3.7824   8.6715  4.4744  1.4156   \n",
       "3  165617  75281957     G   9.6365  1.6516 -5.4313   7.7862  5.6769  1.1213   \n",
       "4  165617  75393376     G   6.0112  3.3614  2.8883   4.0598  4.4318  0.8208   \n",
       "\n",
       "     phi1  Q1 type2       E2     px2     py2      pz2     pt2    eta2    phi2  \\\n",
       "0  3.0350  -1     G   9.6690  7.2740 -2.8211  -5.7104  7.8019 -0.6786 -0.3700   \n",
       "1 -2.9881  -1     G   9.8244  4.3439 -0.4735   8.7985  4.3697  1.4497 -0.1086   \n",
       "2 -1.0072  -1     G  13.5684 -3.3975  5.1910  12.0665  6.2039  1.4187  2.1503   \n",
       "3 -1.2756   1     G   7.0263 -1.6449  4.4418   5.1887  4.7366  0.9473  1.9255   \n",
       "4  0.7098  -1     G   7.7557 -5.0416 -3.0126   5.0642  5.8731  0.7806 -2.6030   \n",
       "\n",
       "   Q2  \n",
       "0   1  \n",
       "1   1  \n",
       "2   1  \n",
       "3  -1  \n",
       "4   1  "
      ]
     },
     "execution_count": 2,
     "metadata": {},
     "output_type": "execute_result"
    }
   ],
   "source": [
    "data = pd.read_csv(\"Candidate2.csv\")\n",
    "data.head()"
   ]
  },
  {
   "cell_type": "code",
   "execution_count": 3,
   "metadata": {},
   "outputs": [],
   "source": [
    "invariant_mass = np.sqrt(2*data.pt1*data.pt2*(np.cosh(data.eta1 - data.eta2) - np.cos(data.phi1 - data.phi2)))"
   ]
  },
  {
   "cell_type": "code",
   "execution_count": 4,
   "metadata": {},
   "outputs": [
    {
     "name": "stdout",
     "output_type": "stream",
     "text": [
      "0        11.551450\n",
      "1         9.160949\n",
      "2        10.536990\n",
      "3        10.405661\n",
      "4        10.168314\n",
      "           ...    \n",
      "19995    11.939627\n",
      "19996    11.072812\n",
      "19997    11.953216\n",
      "19998     9.664299\n",
      "19999    11.661996\n",
      "Length: 20000, dtype: float64\n"
     ]
    }
   ],
   "source": [
    "print(invariant_mass)"
   ]
  },
  {
   "cell_type": "code",
   "execution_count": 5,
   "metadata": {},
   "outputs": [
    {
     "data": {
      "text/html": [
       "<div>\n",
       "<style scoped>\n",
       "    .dataframe tbody tr th:only-of-type {\n",
       "        vertical-align: middle;\n",
       "    }\n",
       "\n",
       "    .dataframe tbody tr th {\n",
       "        vertical-align: top;\n",
       "    }\n",
       "\n",
       "    .dataframe thead th {\n",
       "        text-align: right;\n",
       "    }\n",
       "</style>\n",
       "<table border=\"1\" class=\"dataframe\">\n",
       "  <thead>\n",
       "    <tr style=\"text-align: right;\">\n",
       "      <th></th>\n",
       "      <th>Run</th>\n",
       "      <th>Event</th>\n",
       "      <th>type1</th>\n",
       "      <th>E1</th>\n",
       "      <th>px1</th>\n",
       "      <th>py1</th>\n",
       "      <th>pz1</th>\n",
       "      <th>pt1</th>\n",
       "      <th>eta1</th>\n",
       "      <th>phi1</th>\n",
       "      <th>...</th>\n",
       "      <th>type2</th>\n",
       "      <th>E2</th>\n",
       "      <th>px2</th>\n",
       "      <th>py2</th>\n",
       "      <th>pz2</th>\n",
       "      <th>pt2</th>\n",
       "      <th>eta2</th>\n",
       "      <th>phi2</th>\n",
       "      <th>Q2</th>\n",
       "      <th>M</th>\n",
       "    </tr>\n",
       "  </thead>\n",
       "  <tbody>\n",
       "    <tr>\n",
       "      <th>0</th>\n",
       "      <td>165617</td>\n",
       "      <td>75100943</td>\n",
       "      <td>G</td>\n",
       "      <td>6.2039</td>\n",
       "      <td>-4.2666</td>\n",
       "      <td>0.4565</td>\n",
       "      <td>-4.4793</td>\n",
       "      <td>4.2910</td>\n",
       "      <td>-0.9121</td>\n",
       "      <td>3.0350</td>\n",
       "      <td>...</td>\n",
       "      <td>G</td>\n",
       "      <td>9.6690</td>\n",
       "      <td>7.2740</td>\n",
       "      <td>-2.8211</td>\n",
       "      <td>-5.7104</td>\n",
       "      <td>7.8019</td>\n",
       "      <td>-0.6786</td>\n",
       "      <td>-0.3700</td>\n",
       "      <td>1</td>\n",
       "      <td>11.551450</td>\n",
       "    </tr>\n",
       "    <tr>\n",
       "      <th>1</th>\n",
       "      <td>165617</td>\n",
       "      <td>75587682</td>\n",
       "      <td>G</td>\n",
       "      <td>19.2892</td>\n",
       "      <td>-4.2121</td>\n",
       "      <td>-0.6516</td>\n",
       "      <td>18.8121</td>\n",
       "      <td>4.2622</td>\n",
       "      <td>2.1905</td>\n",
       "      <td>-2.9881</td>\n",
       "      <td>...</td>\n",
       "      <td>G</td>\n",
       "      <td>9.8244</td>\n",
       "      <td>4.3439</td>\n",
       "      <td>-0.4735</td>\n",
       "      <td>8.7985</td>\n",
       "      <td>4.3697</td>\n",
       "      <td>1.4497</td>\n",
       "      <td>-0.1086</td>\n",
       "      <td>1</td>\n",
       "      <td>9.160949</td>\n",
       "    </tr>\n",
       "    <tr>\n",
       "      <th>2</th>\n",
       "      <td>165617</td>\n",
       "      <td>75167029</td>\n",
       "      <td>G</td>\n",
       "      <td>9.7583</td>\n",
       "      <td>2.3903</td>\n",
       "      <td>-3.7824</td>\n",
       "      <td>8.6715</td>\n",
       "      <td>4.4744</td>\n",
       "      <td>1.4156</td>\n",
       "      <td>-1.0072</td>\n",
       "      <td>...</td>\n",
       "      <td>G</td>\n",
       "      <td>13.5684</td>\n",
       "      <td>-3.3975</td>\n",
       "      <td>5.1910</td>\n",
       "      <td>12.0665</td>\n",
       "      <td>6.2039</td>\n",
       "      <td>1.4187</td>\n",
       "      <td>2.1503</td>\n",
       "      <td>1</td>\n",
       "      <td>10.536990</td>\n",
       "    </tr>\n",
       "    <tr>\n",
       "      <th>3</th>\n",
       "      <td>165617</td>\n",
       "      <td>75281957</td>\n",
       "      <td>G</td>\n",
       "      <td>9.6365</td>\n",
       "      <td>1.6516</td>\n",
       "      <td>-5.4313</td>\n",
       "      <td>7.7862</td>\n",
       "      <td>5.6769</td>\n",
       "      <td>1.1213</td>\n",
       "      <td>-1.2756</td>\n",
       "      <td>...</td>\n",
       "      <td>G</td>\n",
       "      <td>7.0263</td>\n",
       "      <td>-1.6449</td>\n",
       "      <td>4.4418</td>\n",
       "      <td>5.1887</td>\n",
       "      <td>4.7366</td>\n",
       "      <td>0.9473</td>\n",
       "      <td>1.9255</td>\n",
       "      <td>-1</td>\n",
       "      <td>10.405661</td>\n",
       "    </tr>\n",
       "    <tr>\n",
       "      <th>4</th>\n",
       "      <td>165617</td>\n",
       "      <td>75393376</td>\n",
       "      <td>G</td>\n",
       "      <td>6.0112</td>\n",
       "      <td>3.3614</td>\n",
       "      <td>2.8883</td>\n",
       "      <td>4.0598</td>\n",
       "      <td>4.4318</td>\n",
       "      <td>0.8208</td>\n",
       "      <td>0.7098</td>\n",
       "      <td>...</td>\n",
       "      <td>G</td>\n",
       "      <td>7.7557</td>\n",
       "      <td>-5.0416</td>\n",
       "      <td>-3.0126</td>\n",
       "      <td>5.0642</td>\n",
       "      <td>5.8731</td>\n",
       "      <td>0.7806</td>\n",
       "      <td>-2.6030</td>\n",
       "      <td>1</td>\n",
       "      <td>10.168314</td>\n",
       "    </tr>\n",
       "  </tbody>\n",
       "</table>\n",
       "<p>5 rows × 21 columns</p>\n",
       "</div>"
      ],
      "text/plain": [
       "      Run     Event type1       E1     px1     py1      pz1     pt1    eta1  \\\n",
       "0  165617  75100943     G   6.2039 -4.2666  0.4565  -4.4793  4.2910 -0.9121   \n",
       "1  165617  75587682     G  19.2892 -4.2121 -0.6516  18.8121  4.2622  2.1905   \n",
       "2  165617  75167029     G   9.7583  2.3903 -3.7824   8.6715  4.4744  1.4156   \n",
       "3  165617  75281957     G   9.6365  1.6516 -5.4313   7.7862  5.6769  1.1213   \n",
       "4  165617  75393376     G   6.0112  3.3614  2.8883   4.0598  4.4318  0.8208   \n",
       "\n",
       "     phi1  ...  type2       E2     px2     py2      pz2     pt2    eta2  \\\n",
       "0  3.0350  ...      G   9.6690  7.2740 -2.8211  -5.7104  7.8019 -0.6786   \n",
       "1 -2.9881  ...      G   9.8244  4.3439 -0.4735   8.7985  4.3697  1.4497   \n",
       "2 -1.0072  ...      G  13.5684 -3.3975  5.1910  12.0665  6.2039  1.4187   \n",
       "3 -1.2756  ...      G   7.0263 -1.6449  4.4418   5.1887  4.7366  0.9473   \n",
       "4  0.7098  ...      G   7.7557 -5.0416 -3.0126   5.0642  5.8731  0.7806   \n",
       "\n",
       "     phi2  Q2          M  \n",
       "0 -0.3700   1  11.551450  \n",
       "1 -0.1086   1   9.160949  \n",
       "2  2.1503   1  10.536990  \n",
       "3  1.9255  -1  10.405661  \n",
       "4 -2.6030   1  10.168314  \n",
       "\n",
       "[5 rows x 21 columns]"
      ]
     },
     "execution_count": 5,
     "metadata": {},
     "output_type": "execute_result"
    }
   ],
   "source": [
    "dataset = data.assign(M=invariant_mass)\n",
    "dataset.head()"
   ]
  },
  {
   "cell_type": "code",
   "execution_count": 6,
   "metadata": {},
   "outputs": [
    {
     "data": {
      "text/plain": [
       "count    20000.000000\n",
       "mean        10.208665\n",
       "std          0.991407\n",
       "min          7.355223\n",
       "25%          9.447532\n",
       "50%         10.155365\n",
       "75%         11.013376\n",
       "max         24.099924\n",
       "Name: M, dtype: float64"
      ]
     },
     "execution_count": 6,
     "metadata": {},
     "output_type": "execute_result"
    }
   ],
   "source": [
    "dataset.M.describe()"
   ]
  },
  {
   "cell_type": "code",
   "execution_count": 22,
   "metadata": {},
   "outputs": [
    {
     "data": {
      "image/png": "[encoded data removed]",
      "text/plain": [
       "<Figure size 432x288 with 1 Axes>"
      ]
     },
     "metadata": {
      "needs_background": "light"
     },
     "output_type": "display_data"
    }
   ],
   "source": [
    "plt.hist(dataset.M, bins=200,range=[7.5,12.5])\n",
    "plt.xlabel(\"Invariant Mass [GeV]\")\n",
    "plt.ylabel(\"Number of Event\")\n",
    "plt.show()"
   ]
  },
  {
   "cell_type": "code",
   "execution_count": 19,
   "metadata": {},
   "outputs": [
    {
     "name": "stdout",
     "output_type": "stream",
     "text": [
      "10       9.358983\n",
      "18       9.397436\n",
      "23       9.595488\n",
      "33       9.586009\n",
      "35       9.429119\n",
      "           ...   \n",
      "19955    9.506853\n",
      "19978    9.484295\n",
      "19987    9.413831\n",
      "19992    9.376643\n",
      "19994    9.425966\n",
      "Name: M, Length: 3192, dtype: float64\n"
     ]
    }
   ],
   "source": [
    "newdata = dataset[(dataset.M >= 9.3) & (dataset.M <= 9.6)]\n",
    "print(newdata.M)"
   ]
  },
  {
   "cell_type": "code",
   "execution_count": 24,
   "metadata": {},
   "outputs": [
    {
     "data": {
      "image/png": "[encoded data removed]",
      "text/plain": [
       "<Figure size 432x288 with 1 Axes>"
      ]
     },
     "metadata": {
      "needs_background": "light"
     },
     "output_type": "display_data"
    }
   ],
   "source": [
    "plt.hist(newdata.M, bins=100)\n",
    "plt.xlabel(\"Invariant Mass [GeV]\")\n",
    "plt.ylabel(\"Number of Event\")\n",
    "plt.show()"
   ]
  },
  {
   "cell_type": "code",
   "execution_count": 25,
   "metadata": {},
   "outputs": [
    {
     "data": {
      "text/plain": [
       "count    3192.000000\n",
       "mean        9.449731\n",
       "std         0.076913\n",
       "min         9.300015\n",
       "25%         9.389175\n",
       "50%         9.449002\n",
       "75%         9.509029\n",
       "max         9.599841\n",
       "Name: M, dtype: float64"
      ]
     },
     "execution_count": 25,
     "metadata": {},
     "output_type": "execute_result"
    }
   ],
   "source": [
    "newdata.M.describe()"
   ]
  },
  {
   "cell_type": "code",
   "execution_count": 26,
   "metadata": {},
   "outputs": [
    {
     "data": {
      "text/plain": [
       "0.0013611330995995418"
      ]
     },
     "execution_count": 26,
     "metadata": {},
     "output_type": "execute_result"
    }
   ],
   "source": [
    "se = np.std(newdata.M)/np.sqrt(newdata.shape[0])\n",
    "se"
   ]
  },
  {
   "cell_type": "markdown",
   "metadata": {},
   "source": [
    "ได้\n",
    "mean = 9.449731, \n",
    "Standard Deviation = 0.076913, \n",
    "Standard Error = $ \\frac{Standard Deviation}{\\sqrt(n)} $ = 0.001361"
   ]
  },
  {
   "cell_type": "markdown",
   "metadata": {},
   "source": [
    "เพราะฉะนั้น อนุภาคที่พบ คือ Upsilon Meson เพราะมีมวลใกล้เคียงกับค่าจริงซึ่งคือ 9.46 GeV"
   ]
  }
 ],
 "metadata": {
  "kernelspec": {
   "display_name": "Python 3",
   "language": "python",
   "name": "python3"
  },
  "language_info": {
   "codemirror_mode": {
    "name": "ipython",
    "version": 3
   },
   "file_extension": ".py",
   "mimetype": "text/x-python",
   "name": "python",
   "nbconvert_exporter": "python",
   "pygments_lexer": "ipython3",
   "version": "3.7.6"
  }
 },
 "nbformat": 4,
 "nbformat_minor": 4
}
